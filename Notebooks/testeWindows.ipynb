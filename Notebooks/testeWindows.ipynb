{
 "cells": [
  {
   "cell_type": "code",
   "execution_count": null,
   "metadata": {},
   "outputs": [],
   "source": [
    "import glob\n",
    "import pandas as pd\n",
    "\n",
    "excelPath = \"./*.xlsx\"\n",
    "xlsx = glob.glob(excelPath)\n",
    "excel = pd.ExcelFile(xlsx[0])\n",
    "sheets = excel.sheet_names\n",
    "sheet = sheets[0]\n",
    "df = pd.read_excel(excel, sheet)\n",
    "col = '5.04. A casa apresenta quais dos seguintes problemas?'\n",
    "\n",
    "def makeSimplePlot(df, col):\n",
    "        path, title = PathTitleService.getPathAndTitle(col)\n",
    "\n",
    "        tablePathAndTitle = path+title+'.png'\n",
    "        TableService.saveSimpleTable(df, col, tablePathAndTitle, title)\n",
    "\n",
    "        try:\n",
    "            nomeCol = 'Nome completo do/a morador/a que responderá e assinará a enquete:'\n",
    "            df = df[(df[nomeCol] != 'Teste app') & (df[nomeCol] != 'Teste 2') & (df[nomeCol] != 'Teste') & (df[col] != 'Nenhuma') & (\n",
    "                df[col] != 'Nenhum') & (df[col] != 'Não sabe/Não respondeu') & (df[col] != 'Não sabe/ Não respondeu')][col].to_frame()\n",
    "        except:\n",
    "            df = df[(df[col] != 'Nenhuma') & (df[col] != 'Nenhum') & (\n",
    "                df[col] != 'Não sabe/Não respondeu') & (df[col] != 'Não sabe/ Não respondeu')][col].to_frame()\n",
    "        df = df[col].rename('').to_frame()\n",
    "        col = ''\n",
    "        respostas = df.groupby([col])[col].count()\n",
    "        if respostas.size > 0:\n",
    "            plot = respostas.plot.bar(title=title, figsize=(7, 4))\n",
    "            plot.figure.savefig(path+title, dpi=300,\n",
    "                                bbox_inches='tight', facecolor='white')"
   ]
  }
 ],
 "metadata": {
  "kernelspec": {
   "display_name": "Python 3.10.7 64-bit",
   "language": "python",
   "name": "python3"
  },
  "language_info": {
   "name": "python",
   "version": "3.10.7"
  },
  "orig_nbformat": 4,
  "vscode": {
   "interpreter": {
    "hash": "26de051ba29f2982a8de78e945f0abaf191376122a1563185a90213a26c5da77"
   }
  }
 },
 "nbformat": 4,
 "nbformat_minor": 2
}
